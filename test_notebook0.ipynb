{
 "cells": [
  {
   "cell_type": "code",
   "execution_count": 1,
   "id": "f61af2a4",
   "metadata": {},
   "outputs": [],
   "source": [
    "import glob"
   ]
  },
  {
   "cell_type": "code",
   "execution_count": 3,
   "id": "79dbd11a",
   "metadata": {},
   "outputs": [],
   "source": [
    "import yfinance as yf\n",
    "\n",
    "def download_instrument_2_csv0(symbol):\n",
    "    \"\"\"wrapper of yfinance data\n",
    "    downloads and saves data as a csv file\"\"\"\n",
    "    # default start and end dates\n",
    "    # TODO - abstract out if needed in the future\n",
    "    week_start_dates = ['2023-01-02', '2023-01-09', '2023-01-16', '2023-01-23', '2023-01-30']\n",
    "    week_end_dates = ['2023-01-07', '2023-01-14', '2023-01-21', '2023-01-28', '2023-02-04']\n",
    "    \n",
    "    week_count = 1\n",
    "    for x in range(len(week_start_dates)):\n",
    "        try:\n",
    "            print('Trying to download data for: ' + symbol)\n",
    "            obj0 = yf.Ticker(symbol)\n",
    "            #print('downloading data for week ' + str(week_count) + ' starting ' + week_start_dates[x] + ' ending ' + week_end_dates[x] )\n",
    "            d0 = obj0.history(interval='1d', start=week_start_dates[x], end=week_end_dates[x])\n",
    "            if d0.empty:\n",
    "                # print('No data downloaded for symbol:' + symbol)\n",
    "                raise Exception('Symbol is either invalid or delisted')\n",
    "        except Exception:\n",
    "                print('No data downloaded for symbol: ' + symbol)\n",
    "                break\n",
    "        else:\n",
    "                print('Successfully downloaded data for: ' + symbol)\n",
    "                path_string = 'data/week' + str(week_count) + '.csv'\n",
    "                d0.to_csv(path_string)\n",
    "                print('Downloaded data saved as: ' + path_string)\n",
    "                week_count = week_count + 1\n",
    "    return"
   ]
  },
  {
   "cell_type": "code",
   "execution_count": 5,
   "id": "1629f1dc",
   "metadata": {},
   "outputs": [
    {
     "name": "stdout",
     "output_type": "stream",
     "text": [
      "Trying to download data for: SPGP.L\n",
      "Successfully downloaded data for: SPGP.L\n",
      "Downloaded data saved as: data/week1.csv\n",
      "Trying to download data for: SPGP.L\n",
      "Successfully downloaded data for: SPGP.L\n",
      "Downloaded data saved as: data/week2.csv\n",
      "Trying to download data for: SPGP.L\n",
      "Successfully downloaded data for: SPGP.L\n",
      "Downloaded data saved as: data/week3.csv\n",
      "Trying to download data for: SPGP.L\n",
      "Successfully downloaded data for: SPGP.L\n",
      "Downloaded data saved as: data/week4.csv\n",
      "Trying to download data for: SPGP.L\n",
      "Successfully downloaded data for: SPGP.L\n",
      "Downloaded data saved as: data/week5.csv\n"
     ]
    }
   ],
   "source": [
    "download_instrument_2_csv0('SPGP.L')"
   ]
  },
  {
   "cell_type": "code",
   "execution_count": 12,
   "id": "29a5d66f",
   "metadata": {},
   "outputs": [
    {
     "name": "stdout",
     "output_type": "stream",
     "text": [
      "trying to download data\n",
      "No data can be downloaded\n"
     ]
    }
   ],
   "source": [
    "symbol = 'SPGP.L'\n",
    "obj0 = yf.Ticker(symbol)\n",
    "try:\n",
    "    print('trying to download data')\n",
    "    d0 = obj0.history(interval='1d', start=week_start_dates[x], end=week_end_dates[x])\n",
    "    if d0.empty:\n",
    "        print('No data downloaded for symbol:' + symbol)\n",
    "        raise Exception('Symbol is either invalid or delisted')\n",
    "except Exception:\n",
    "    print('No data can be downloaded')\n",
    "else:\n",
    "    print('Successfully downloaded data for: ' + symbol)"
   ]
  },
  {
   "cell_type": "code",
   "execution_count": 13,
   "id": "cbcf8c1c",
   "metadata": {},
   "outputs": [],
   "source": [
    "week_start_dates = ['2023-01-02', '2023-01-09', '2023-01-16', '2023-01-23', '2023-01-30']\n",
    "week_end_dates = ['2023-01-07', '2023-01-14', '2023-01-21', '2023-01-28', '2023-02-04']"
   ]
  },
  {
   "cell_type": "code",
   "execution_count": 14,
   "id": "70ff4209",
   "metadata": {},
   "outputs": [
    {
     "data": {
      "text/html": [
       "<div>\n",
       "<style scoped>\n",
       "    .dataframe tbody tr th:only-of-type {\n",
       "        vertical-align: middle;\n",
       "    }\n",
       "\n",
       "    .dataframe tbody tr th {\n",
       "        vertical-align: top;\n",
       "    }\n",
       "\n",
       "    .dataframe thead th {\n",
       "        text-align: right;\n",
       "    }\n",
       "</style>\n",
       "<table border=\"1\" class=\"dataframe\">\n",
       "  <thead>\n",
       "    <tr style=\"text-align: right;\">\n",
       "      <th></th>\n",
       "      <th>Open</th>\n",
       "      <th>High</th>\n",
       "      <th>Low</th>\n",
       "      <th>Close</th>\n",
       "      <th>Volume</th>\n",
       "      <th>Dividends</th>\n",
       "      <th>Stock Splits</th>\n",
       "      <th>Capital Gains</th>\n",
       "    </tr>\n",
       "    <tr>\n",
       "      <th>Date</th>\n",
       "      <th></th>\n",
       "      <th></th>\n",
       "      <th></th>\n",
       "      <th></th>\n",
       "      <th></th>\n",
       "      <th></th>\n",
       "      <th></th>\n",
       "      <th></th>\n",
       "    </tr>\n",
       "  </thead>\n",
       "  <tbody>\n",
       "    <tr>\n",
       "      <th>2023-01-03 00:00:00+00:00</th>\n",
       "      <td>1073.0</td>\n",
       "      <td>1084.905029</td>\n",
       "      <td>1064.000000</td>\n",
       "      <td>1066.5</td>\n",
       "      <td>85016</td>\n",
       "      <td>0.0</td>\n",
       "      <td>0.0</td>\n",
       "      <td>0.0</td>\n",
       "    </tr>\n",
       "    <tr>\n",
       "      <th>2023-01-04 00:00:00+00:00</th>\n",
       "      <td>1094.0</td>\n",
       "      <td>1124.500000</td>\n",
       "      <td>1093.000000</td>\n",
       "      <td>1117.0</td>\n",
       "      <td>52037</td>\n",
       "      <td>0.0</td>\n",
       "      <td>0.0</td>\n",
       "      <td>0.0</td>\n",
       "    </tr>\n",
       "    <tr>\n",
       "      <th>2023-01-05 00:00:00+00:00</th>\n",
       "      <td>1123.0</td>\n",
       "      <td>1124.500000</td>\n",
       "      <td>1107.449951</td>\n",
       "      <td>1114.5</td>\n",
       "      <td>40557</td>\n",
       "      <td>0.0</td>\n",
       "      <td>0.0</td>\n",
       "      <td>0.0</td>\n",
       "    </tr>\n",
       "    <tr>\n",
       "      <th>2023-01-06 00:00:00+00:00</th>\n",
       "      <td>1124.5</td>\n",
       "      <td>1154.000000</td>\n",
       "      <td>1124.500000</td>\n",
       "      <td>1145.0</td>\n",
       "      <td>38959</td>\n",
       "      <td>0.0</td>\n",
       "      <td>0.0</td>\n",
       "      <td>0.0</td>\n",
       "    </tr>\n",
       "  </tbody>\n",
       "</table>\n",
       "</div>"
      ],
      "text/plain": [
       "                             Open         High          Low   Close  Volume  \\\n",
       "Date                                                                          \n",
       "2023-01-03 00:00:00+00:00  1073.0  1084.905029  1064.000000  1066.5   85016   \n",
       "2023-01-04 00:00:00+00:00  1094.0  1124.500000  1093.000000  1117.0   52037   \n",
       "2023-01-05 00:00:00+00:00  1123.0  1124.500000  1107.449951  1114.5   40557   \n",
       "2023-01-06 00:00:00+00:00  1124.5  1154.000000  1124.500000  1145.0   38959   \n",
       "\n",
       "                           Dividends  Stock Splits  Capital Gains  \n",
       "Date                                                               \n",
       "2023-01-03 00:00:00+00:00        0.0           0.0            0.0  \n",
       "2023-01-04 00:00:00+00:00        0.0           0.0            0.0  \n",
       "2023-01-05 00:00:00+00:00        0.0           0.0            0.0  \n",
       "2023-01-06 00:00:00+00:00        0.0           0.0            0.0  "
      ]
     },
     "execution_count": 14,
     "metadata": {},
     "output_type": "execute_result"
    }
   ],
   "source": [
    "data = obj0.history(interval='1d', start='2023-01-02', end='2023-01-07')\n",
    "data.head()"
   ]
  },
  {
   "cell_type": "code",
   "execution_count": 15,
   "id": "9c27fd5f",
   "metadata": {},
   "outputs": [
    {
     "data": {
      "text/plain": [
       "(4, 8)"
      ]
     },
     "execution_count": 15,
     "metadata": {},
     "output_type": "execute_result"
    }
   ],
   "source": [
    "data.shape"
   ]
  },
  {
   "cell_type": "code",
   "execution_count": 16,
   "id": "2a7c2ed4",
   "metadata": {},
   "outputs": [
    {
     "data": {
      "text/html": [
       "<div>\n",
       "<style scoped>\n",
       "    .dataframe tbody tr th:only-of-type {\n",
       "        vertical-align: middle;\n",
       "    }\n",
       "\n",
       "    .dataframe tbody tr th {\n",
       "        vertical-align: top;\n",
       "    }\n",
       "\n",
       "    .dataframe thead th {\n",
       "        text-align: right;\n",
       "    }\n",
       "</style>\n",
       "<table border=\"1\" class=\"dataframe\">\n",
       "  <thead>\n",
       "    <tr style=\"text-align: right;\">\n",
       "      <th></th>\n",
       "      <th>Open</th>\n",
       "      <th>High</th>\n",
       "      <th>Low</th>\n",
       "      <th>Close</th>\n",
       "      <th>Volume</th>\n",
       "      <th>Dividends</th>\n",
       "      <th>Stock Splits</th>\n",
       "      <th>Capital Gains</th>\n",
       "    </tr>\n",
       "    <tr>\n",
       "      <th>Date</th>\n",
       "      <th></th>\n",
       "      <th></th>\n",
       "      <th></th>\n",
       "      <th></th>\n",
       "      <th></th>\n",
       "      <th></th>\n",
       "      <th></th>\n",
       "      <th></th>\n",
       "    </tr>\n",
       "  </thead>\n",
       "  <tbody>\n",
       "    <tr>\n",
       "      <th>2023-01-03 00:00:00+00:00</th>\n",
       "      <td>1073.0</td>\n",
       "      <td>1084.905029</td>\n",
       "      <td>1064.000000</td>\n",
       "      <td>1066.5</td>\n",
       "      <td>85016</td>\n",
       "      <td>0.0</td>\n",
       "      <td>0.0</td>\n",
       "      <td>0.0</td>\n",
       "    </tr>\n",
       "    <tr>\n",
       "      <th>2023-01-04 00:00:00+00:00</th>\n",
       "      <td>1094.0</td>\n",
       "      <td>1124.500000</td>\n",
       "      <td>1093.000000</td>\n",
       "      <td>1117.0</td>\n",
       "      <td>52037</td>\n",
       "      <td>0.0</td>\n",
       "      <td>0.0</td>\n",
       "      <td>0.0</td>\n",
       "    </tr>\n",
       "    <tr>\n",
       "      <th>2023-01-05 00:00:00+00:00</th>\n",
       "      <td>1123.0</td>\n",
       "      <td>1124.500000</td>\n",
       "      <td>1107.449951</td>\n",
       "      <td>1114.5</td>\n",
       "      <td>40557</td>\n",
       "      <td>0.0</td>\n",
       "      <td>0.0</td>\n",
       "      <td>0.0</td>\n",
       "    </tr>\n",
       "    <tr>\n",
       "      <th>2023-01-06 00:00:00+00:00</th>\n",
       "      <td>1124.5</td>\n",
       "      <td>1154.000000</td>\n",
       "      <td>1124.500000</td>\n",
       "      <td>1145.0</td>\n",
       "      <td>38959</td>\n",
       "      <td>0.0</td>\n",
       "      <td>0.0</td>\n",
       "      <td>0.0</td>\n",
       "    </tr>\n",
       "  </tbody>\n",
       "</table>\n",
       "</div>"
      ],
      "text/plain": [
       "                             Open         High          Low   Close  Volume  \\\n",
       "Date                                                                          \n",
       "2023-01-03 00:00:00+00:00  1073.0  1084.905029  1064.000000  1066.5   85016   \n",
       "2023-01-04 00:00:00+00:00  1094.0  1124.500000  1093.000000  1117.0   52037   \n",
       "2023-01-05 00:00:00+00:00  1123.0  1124.500000  1107.449951  1114.5   40557   \n",
       "2023-01-06 00:00:00+00:00  1124.5  1154.000000  1124.500000  1145.0   38959   \n",
       "\n",
       "                           Dividends  Stock Splits  Capital Gains  \n",
       "Date                                                               \n",
       "2023-01-03 00:00:00+00:00        0.0           0.0            0.0  \n",
       "2023-01-04 00:00:00+00:00        0.0           0.0            0.0  \n",
       "2023-01-05 00:00:00+00:00        0.0           0.0            0.0  \n",
       "2023-01-06 00:00:00+00:00        0.0           0.0            0.0  "
      ]
     },
     "execution_count": 16,
     "metadata": {},
     "output_type": "execute_result"
    }
   ],
   "source": [
    "data.tail()"
   ]
  },
  {
   "cell_type": "code",
   "execution_count": 17,
   "id": "e76ea2ac",
   "metadata": {},
   "outputs": [
    {
     "data": {
      "text/plain": [
       "['data/week1.csv',\n",
       " 'data/week2.csv',\n",
       " 'data/week3.csv',\n",
       " 'data/week4.csv',\n",
       " 'data/week5.csv']"
      ]
     },
     "execution_count": 17,
     "metadata": {},
     "output_type": "execute_result"
    }
   ],
   "source": [
    "# get list of data files previously downloaded\n",
    "flist = glob.glob(\"data/week*.csv\")\n",
    "flist"
   ]
  },
  {
   "cell_type": "code",
   "execution_count": 18,
   "id": "7c9469a8",
   "metadata": {},
   "outputs": [
    {
     "name": "stdout",
     "output_type": "stream",
     "text": [
      "5 downloaded instrument data files found\n"
     ]
    }
   ],
   "source": [
    "number_of_files = len(flist)\n",
    "if (number_of_files):\n",
    "    print(str(number_of_files) + ' downloaded instrument data files found')\n",
    "else:\n",
    "    print('No downloaded instrument data files found')"
   ]
  },
  {
   "cell_type": "code",
   "execution_count": 19,
   "id": "f1ac6249",
   "metadata": {},
   "outputs": [
    {
     "name": "stdout",
     "output_type": "stream",
     "text": [
      "Summary desicription written to: data/week1_description.csv\n"
     ]
    }
   ],
   "source": [
    "import pandas as pd\n",
    "\n",
    "\n",
    "def describe_file(file_path):\n",
    "    try:\n",
    "        # run if file exists\n",
    "        d0 = pd.read_csv(file_path)\n",
    "    except FileNotFoundError:\n",
    "        msg = \"Sorry, the file \" + file_path + \" does not exist.\"\n",
    "        print(msg)\n",
    "    else:\n",
    "        # write the summary/ description file with _description appended to file name\n",
    "        path_to_write_to = file_path.split('.csv')[0] + '_description.csv'\n",
    "        d0.describe().to_csv(path_to_write_to)\n",
    "        msg = \"Summary desicription written to: \" + path_to_write_to\n",
    "        print(msg)\n",
    "\n",
    "file_path = 'data/week1.csv'\n",
    "describe_file(file_path)"
   ]
  },
  {
   "cell_type": "code",
   "execution_count": 20,
   "id": "b19e95d8",
   "metadata": {},
   "outputs": [
    {
     "name": "stdout",
     "output_type": "stream",
     "text": [
      "start_date, end_date\n",
      "2023-01-02, 2023-01-07\n",
      "2023-01-09, 2023-01-14\n",
      "2023-01-16, 2023-01-21\n",
      "2023-01-23, 2023-01-28\n",
      "2023-01-30, 2023-02-04\n"
     ]
    }
   ],
   "source": [
    "import csv\n",
    "with open('start_end_dates.csv', newline='') as csvfile:\n",
    "    reader0 = csv.reader(csvfile, delimiter=',', quotechar='\\'')\n",
    "    for row in reader0:\n",
    "        print(', '.join(row))"
   ]
  },
  {
   "cell_type": "code",
   "execution_count": 21,
   "id": "7277f408",
   "metadata": {},
   "outputs": [
    {
     "data": {
      "text/plain": [
       "list"
      ]
     },
     "execution_count": 21,
     "metadata": {},
     "output_type": "execute_result"
    }
   ],
   "source": [
    "week_start_dates = ['2023-01-02', '2023-01-09', '2023-01-16', '2023-01-23', '2023-01-30']\n",
    "type(week_start_dates)"
   ]
  },
  {
   "cell_type": "code",
   "execution_count": 22,
   "id": "e638460a",
   "metadata": {},
   "outputs": [],
   "source": [
    "import csv\n",
    "\n",
    "def read_start_end_dates(file_path):\n",
    "    \n",
    "    # Open the file in 'r' mode, not 'rb'\n",
    "    csv_file = open(file_path,'r')\n",
    "    start = []\n",
    "    end = []\n",
    "\n",
    "    # Read off and discard first line, to skip headers\n",
    "    csv_file.readline()\n",
    "\n",
    "    # Split columns while reading\n",
    "    for a, b in csv.reader(csv_file, delimiter=','):\n",
    "        # Append each variable to a separate list\n",
    "        start.append(a)\n",
    "        end.append(b)\n",
    "    return start, end"
   ]
  },
  {
   "cell_type": "code",
   "execution_count": 23,
   "id": "d0a0dcd9",
   "metadata": {},
   "outputs": [],
   "source": [
    "start0, end0 = read_start_end_dates('start_end_dates.csv')"
   ]
  },
  {
   "cell_type": "code",
   "execution_count": 24,
   "id": "37b0cc6e",
   "metadata": {},
   "outputs": [
    {
     "name": "stdout",
     "output_type": "stream",
     "text": [
      "Summary desicription written to: data/week1_description.csv\n",
      "Summary desicription written to: data/week2_description.csv\n",
      "Summary desicription written to: data/week3_description.csv\n",
      "Summary desicription written to: data/week1_description_description.csv\n",
      "Summary desicription written to: data/week4_description.csv\n",
      "Summary desicription written to: data/week5_description.csv\n"
     ]
    }
   ],
   "source": [
    "flist = glob.glob(\"data/*.csv\")\n",
    "for file in flist:\n",
    "    describe_file(file)"
   ]
  },
  {
   "cell_type": "code",
   "execution_count": null,
   "id": "0178ed26",
   "metadata": {},
   "outputs": [],
   "source": []
  }
 ],
 "metadata": {
  "kernelspec": {
   "display_name": "Python 3 (ipykernel)",
   "language": "python",
   "name": "python3"
  },
  "language_info": {
   "codemirror_mode": {
    "name": "ipython",
    "version": 3
   },
   "file_extension": ".py",
   "mimetype": "text/x-python",
   "name": "python",
   "nbconvert_exporter": "python",
   "pygments_lexer": "ipython3",
   "version": "3.10.8"
  }
 },
 "nbformat": 4,
 "nbformat_minor": 5
}
